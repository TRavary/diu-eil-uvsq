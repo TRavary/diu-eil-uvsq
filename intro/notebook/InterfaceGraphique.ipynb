{
 "cells": [
  {
   "cell_type": "markdown",
   "metadata": {
    "collapsed": true
   },
   "source": [
    "# La bibliothèque graphics"
   ]
  },
  {
   "cell_type": "markdown",
   "metadata": {},
   "source": [
    "### importation de la bibliothèque"
   ]
  },
  {
   "cell_type": "code",
   "execution_count": null,
   "metadata": {},
   "outputs": [],
   "source": [
    "from graphics import *"
   ]
  },
  {
   "cell_type": "markdown",
   "metadata": {},
   "source": [
    "### init_fenetre(longueur,largeur,titre) et attendre_echap()\n",
    "init_fenetre crée une fenêtre de dimension longueur x largeur en pixels. Le titre est une chaine de caratère optionnelle.\n",
    "attendre_echap() attend l'ordre de l'utilisateur de quitter la fenêtre"
   ]
  },
  {
   "cell_type": "code",
   "execution_count": null,
   "metadata": {},
   "outputs": [],
   "source": [
    "from graphics import *\n",
    "init_fenetre(600,400,\"Ma première fenêtre\")\n",
    "attendre_echap()"
   ]
  },
  {
   "cell_type": "markdown",
   "metadata": {},
   "source": [
    "### remplir_fenetre(couleur)\n",
    "remplir_fenetre colorie toute le fenêtre dans la couleur spécifiée parmi :\n",
    "noir, blanc, bleu, rouge, jaune, vert, rose, orange, violet, cyan\n",
    "par défaut la fenêtre est remplie de noir"
   ]
  },
  {
   "cell_type": "code",
   "execution_count": null,
   "metadata": {},
   "outputs": [],
   "source": [
    "from graphics import *\n",
    "init_fenetre(600,400,\"Ma première fenêtre\")\n",
    "remplir_fenetre(orange)\n",
    "attendre_echap()"
   ]
  },
  {
   "cell_type": "markdown",
   "metadata": {},
   "source": [
    "### type Point\n",
    "### wait_clic()\n",
    "### affiche_pixel(point,couleur)\n",
    "\n",
    "Une variable de type Point représente les coordonnées d'un pixel dans la fenêtre, l'origine du repère étant le point en bas à gauche de la fenêtre.\n",
    "Si P est une variable de type point, l'abscisse est notée P.x et l'ordonnée P.y, ce sont deux int.\n",
    "wait_clic() attend un clic de l'utilisateur dans la fenêtre et renvoie les coordonnées du clic dans la fenêtre sous la forme d'un Point.\n",
    "affiche_pixel affiche le pixel de coordonnées point de la couleur donnée"
   ]
  },
  {
   "cell_type": "code",
   "execution_count": null,
   "metadata": {},
   "outputs": [],
   "source": [
    "from graphics import *\n",
    "init_fenetre(100,100,\"Ma première fenêtre\")\n",
    "remplir_fenetre(blanc)\n",
    "P = Point()\n",
    "P.x = 50\n",
    "P.y = 50\n",
    "affiche_pixel(P,noir)\n",
    "\n",
    "Q = wait_clic()\n",
    "affiche_pixel(Q,rouge)\n",
    "attendre_echap()"
   ]
  },
  {
   "cell_type": "markdown",
   "metadata": {},
   "source": [
    "##### affiche_ligne(point_depart, point_arrivee, couleur,epaisseur)\n",
    "##### affiche_rectangle(point1,point2,couleur,epaisseur)\n",
    "##### affiche_rectangle_plein(point1,point2,couleur)\n",
    "##### affiche_cercle(centre, rayon, couleur,epaisseur)\n",
    "##### affiche_cercle_plein(centre, rayon, couleur)\n",
    "##### affiche_triangle(point1,point2,point3,couleur,epaisseur)\n",
    "##### affiche_triangle_plein(point1,point2,point3,couleur)\n",
    "##### affiche_arc_cercle(centre,rayon,angle_debut,angle_fin,couleur,epaisseur)\n",
    "##### affiche_ellipse(point1,point2,couleur,epaisseur)\n",
    "##### affiche_ellipse_plein(point1,point2,couleur)\n",
    "\n",
    "Ces fonctions dessinent des objets géométriques. L'épaisseur est optionnelle et vaut 1 pixel par défaut."
   ]
  },
  {
   "cell_type": "code",
   "execution_count": null,
   "metadata": {},
   "outputs": [],
   "source": [
    "from graphics import *\n",
    "init_fenetre(800,600,\"Test dessin\")\n",
    "remplir_fenetre(blanc)\n",
    "A = Point(10,50)\n",
    "B = Point(70,20)\n",
    "affiche_ligne(A,B,rouge)\n",
    "affiche_cercle(A,30,bleu)\n",
    "C = Point(200,300)\n",
    "D = Point(500,400)\n",
    "affiche_rectangle_plein(C,D,vert)\n",
    "affiche_rectangle(C,D,bleu)\n",
    "E = Point(600,550)\n",
    "F = Point(600,500)\n",
    "affiche_triangle(D,E,F,cyan,14)\n",
    "G = Point(350,350)\n",
    "affiche_pixel(G,rouge)\n",
    "H = Point(400,50)\n",
    "affiche_cercle_plein(H,40,rouge)\n",
    "I = Point(320,40)\n",
    "J = Point(320,60)\n",
    "affiche_triangle_plein(I,J,H,vert)\n",
    "affiche_arc_cercle(C,70,-160,120,noir,10)\n",
    "K = Point(100,400)\n",
    "L = Point(600,600)\n",
    "affiche_ellipse(K,L,orange,10)\n",
    "M = Point(150,450)\n",
    "N = Point(550,550)\n",
    "affiche_ellipse_plein(M,N,violet)\n",
    "attendre_echap()"
   ]
  },
  {
   "cell_type": "markdown",
   "metadata": {},
   "source": [
    "# Exercices"
   ]
  },
  {
   "cell_type": "markdown",
   "metadata": {},
   "source": [
    "### Exercice 1:\n",
    "Afficher une fenêtre carrée de coté 200 pixels avec un fond blanc et une ligne noire qui sépare verticalement cette fenêtre en deux parties égales"
   ]
  },
  {
   "cell_type": "code",
   "execution_count": null,
   "metadata": {
    "collapsed": true
   },
   "outputs": [],
   "source": []
  },
  {
   "cell_type": "markdown",
   "metadata": {},
   "source": [
    "### Exercice 2 :\n",
    "Afficher une fenêtre carrée de coté 200.\n",
    "Dessiner 3 disques concentriques de rayons 20,40,60 et de couleur rouge, blanc, rouge centrée au centre de la fenêtre\n"
   ]
  },
  {
   "cell_type": "code",
   "execution_count": null,
   "metadata": {
    "collapsed": true
   },
   "outputs": [],
   "source": []
  },
  {
   "cell_type": "markdown",
   "metadata": {},
   "source": [
    "### Exercice 3 :\n",
    "Afficher une fenêtre carrée de coté 200.\n",
    "Dessiner un triangle équilatéral bleu de coté 50 sur fond blanc"
   ]
  },
  {
   "cell_type": "code",
   "execution_count": null,
   "metadata": {},
   "outputs": [],
   "source": []
  },
  {
   "cell_type": "markdown",
   "metadata": {},
   "source": [
    "### Exercice 4 :\n",
    "Afficher une fenêtre de coté 600 par 400 sur fond blanc.\n",
    "Dessiner un disque rouge de rayon 100 dans l'angle bas gauche de la fenetre\n",
    "Le programme doit attendre un clic de l'utilisateur.\n",
    "Après ce clic, le disque doit se déplacer horizontalement vers la droite de 40 pixels.\n",
    "Répéter cette opération plusieurs fois en complétant votre programme en utilisant uniquement des copier coller.\n"
   ]
  },
  {
   "cell_type": "code",
   "execution_count": null,
   "metadata": {
    "collapsed": true
   },
   "outputs": [],
   "source": []
  }
 ],
 "metadata": {
  "kernelspec": {
   "display_name": "Python 3",
   "language": "python",
   "name": "python3"
  },
  "language_info": {
   "codemirror_mode": {
    "name": "ipython",
    "version": 3
   },
   "file_extension": ".py",
   "mimetype": "text/x-python",
   "name": "python",
   "nbconvert_exporter": "python",
   "pygments_lexer": "ipython3",
   "version": "3.4.5"
  }
 },
 "nbformat": 4,
 "nbformat_minor": 2
}
