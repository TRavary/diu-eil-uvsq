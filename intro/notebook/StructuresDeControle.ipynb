{
 "cells": [
  {
   "cell_type": "markdown",
   "metadata": {},
   "source": [
    "# Instruction conditionnelle\n",
    "\n",
    "<code>\n",
    "if condition1:\n",
    "    bloc d instruction 1\n",
    "elif condition 2:\n",
    "    bloc d instruction 2\n",
    "else:\n",
    "    bloc d'instruction par défaut\n",
    "</code>\n",
    "\n",
    "Le bloc d'instruction 1 est executé uniquement si la condition 1 est vraie\n",
    "Le bloc d'instruction 2 est executé uniquement si la condition 1 est fausse et la condition 2 est vraie\n",
    "Le bloc d'instruction par défaut est executé uniquement si toutes les conditions précédentes sont fausses.\n",
    "\n",
    "#### notes :\n",
    "1. Les blocs d'instructions sont définis par l'indentation (le décalage en début de ligne)\n",
    "1. Il peut y avoir autant de \"elif\" que nécessaire, mais un seul \"if\" et un seul \"else\"\n",
    "1. \"elif\" et \"else\" sont optionnels\n",
    "1. Un seul des blocs d'instruction est executé, voire aucun (si les conditions sont toutes fausses et que \"else\" est omis)"
   ]
  },
  {
   "cell_type": "markdown",
   "metadata": {},
   "source": [
    "## Exercice 1 :\n",
    "\n"
   ]
  },
  {
   "cell_type": "code",
   "execution_count": null,
   "metadata": {},
   "outputs": [],
   "source": []
  }
 ],
 "metadata": {
  "kernelspec": {
   "display_name": "Python 3",
   "language": "python",
   "name": "python3"
  },
  "language_info": {
   "codemirror_mode": {
    "name": "ipython",
    "version": 3
   },
   "file_extension": ".py",
   "mimetype": "text/x-python",
   "name": "python",
   "nbconvert_exporter": "python",
   "pygments_lexer": "ipython3",
   "version": "3.4.5"
  }
 },
 "nbformat": 4,
 "nbformat_minor": 2
}
