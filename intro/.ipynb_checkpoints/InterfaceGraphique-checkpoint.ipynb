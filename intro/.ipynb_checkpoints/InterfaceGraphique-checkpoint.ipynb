{
 "cells": [
  {
   "cell_type": "markdown",
   "metadata": {
    "collapsed": true
   },
   "source": [
    "# La bibliothèque graphics"
   ]
  },
  {
   "cell_type": "markdown",
   "metadata": {},
   "source": [
    "### importation de la bibliothèque"
   ]
  },
  {
   "cell_type": "code",
   "execution_count": 1,
   "metadata": {},
   "outputs": [
    {
     "name": "stdout",
     "output_type": "stream",
     "text": [
      "pygame 1.9.4\n",
      "Hello from the pygame community. https://www.pygame.org/contribute.html\n"
     ]
    }
   ],
   "source": [
    "from graphics import *"
   ]
  },
  {
   "cell_type": "markdown",
   "metadata": {},
   "source": [
    "### init_fenetre(longueur,largeur,titre) et attendre_echap()\n",
    "init_fenetre crée une fenêtre de dimension longueur x largeur en pixels. Le titre est une chaine de caratère optionnelle.\n",
    "attendre_echap() attend l'ordre de l'utilisateur de quitter la fenêtre"
   ]
  },
  {
   "cell_type": "code",
   "execution_count": 2,
   "metadata": {},
   "outputs": [
    {
     "ename": "SystemExit",
     "evalue": "0",
     "output_type": "error",
     "traceback": [
      "An exception has occurred, use %tb to see the full traceback.\n",
      "\u001b[1;31mSystemExit\u001b[0m\u001b[1;31m:\u001b[0m 0\n"
     ]
    },
    {
     "name": "stderr",
     "output_type": "stream",
     "text": [
      "C:\\EduPython\\App\\lib\\site-packages\\IPython\\core\\interactiveshell.py:2889: UserWarning: To exit: use 'exit', 'quit', or Ctrl-D.\n",
      "  warn(\"To exit: use 'exit', 'quit', or Ctrl-D.\", stacklevel=1)\n"
     ]
    }
   ],
   "source": [
    "from graphics import *\n",
    "init_fenetre(600,400,\"Ma première fenêtre\")\n",
    "attendre_echap()"
   ]
  },
  {
   "cell_type": "markdown",
   "metadata": {},
   "source": [
    "### remplir_fenetre(couleur)\n",
    "remplir_fenetre colorie toute le fenêtre dans la couleur spécifiée parmi :\n",
    "noir, blanc, bleu, rouge, jaune, vert, rose, orange, violet, cyan\n",
    "par défaut la fenêtre est remplie de noir"
   ]
  },
  {
   "cell_type": "code",
   "execution_count": 1,
   "metadata": {},
   "outputs": [
    {
     "name": "stdout",
     "output_type": "stream",
     "text": [
      "pygame 1.9.4\n",
      "Hello from the pygame community. https://www.pygame.org/contribute.html\n"
     ]
    },
    {
     "ename": "error",
     "evalue": "video system not initialized",
     "output_type": "error",
     "traceback": [
      "\u001b[1;31m---------------------------------------------------------------------------\u001b[0m",
      "\u001b[1;31merror\u001b[0m                                     Traceback (most recent call last)",
      "\u001b[1;32m<ipython-input-1-75d73f673501>\u001b[0m in \u001b[0;36m<module>\u001b[1;34m()\u001b[0m\n\u001b[0;32m      2\u001b[0m \u001b[0minit_fenetre\u001b[0m\u001b[1;33m(\u001b[0m\u001b[1;36m600\u001b[0m\u001b[1;33m,\u001b[0m\u001b[1;36m400\u001b[0m\u001b[1;33m,\u001b[0m\u001b[1;34m\"Ma première fenêtre\"\u001b[0m\u001b[1;33m)\u001b[0m\u001b[1;33m\u001b[0m\u001b[0m\n\u001b[0;32m      3\u001b[0m \u001b[0mremplir_fenetre\u001b[0m\u001b[1;33m(\u001b[0m\u001b[0morange\u001b[0m\u001b[1;33m)\u001b[0m\u001b[1;33m\u001b[0m\u001b[0m\n\u001b[1;32m----> 4\u001b[1;33m \u001b[0mattendre_echap\u001b[0m\u001b[1;33m(\u001b[0m\u001b[1;33m)\u001b[0m\u001b[1;33m\u001b[0m\u001b[0m\n\u001b[0m",
      "\u001b[1;32mC:\\Users\\Thomas\\Documents\\GitHub\\diu-eil-uvsq\\intro\\graphics.py\u001b[0m in \u001b[0;36mattendre_echap\u001b[1;34m()\u001b[0m\n\u001b[0;32m    131\u001b[0m         \u001b[0minstruction\u001b[0m \u001b[0mbloquante\u001b[0m\u001b[1;33m\u001b[0m\u001b[0m\n\u001b[0;32m    132\u001b[0m     \"\"\"\n\u001b[1;32m--> 133\u001b[1;33m     \u001b[1;32mwhile\u001b[0m \u001b[0mpas_echap\u001b[0m\u001b[1;33m(\u001b[0m\u001b[1;33m)\u001b[0m\u001b[1;33m:\u001b[0m\u001b[1;33m\u001b[0m\u001b[0m\n\u001b[0m\u001b[0;32m    134\u001b[0m         \u001b[1;32mpass\u001b[0m\u001b[1;33m\u001b[0m\u001b[0m\n\u001b[0;32m    135\u001b[0m \u001b[1;33m\u001b[0m\u001b[0m\n",
      "\u001b[1;32mC:\\Users\\Thomas\\Documents\\GitHub\\diu-eil-uvsq\\intro\\graphics.py\u001b[0m in \u001b[0;36mpas_echap\u001b[1;34m()\u001b[0m\n\u001b[0;32m    121\u001b[0m         \u001b[0msinon\u001b[0m \u001b[0mquitte\u001b[0m \u001b[0ml\u001b[0m\u001b[0;31m'\u001b[0m\u001b[0mapplication\u001b[0m\u001b[1;33m\u001b[0m\u001b[0m\n\u001b[0;32m    122\u001b[0m     \"\"\"\n\u001b[1;32m--> 123\u001b[1;33m     \u001b[1;32mfor\u001b[0m \u001b[0mevent\u001b[0m \u001b[1;32min\u001b[0m \u001b[0mpygame\u001b[0m\u001b[1;33m.\u001b[0m\u001b[0mevent\u001b[0m\u001b[1;33m.\u001b[0m\u001b[0mget\u001b[0m\u001b[1;33m(\u001b[0m\u001b[1;33m)\u001b[0m\u001b[1;33m:\u001b[0m\u001b[1;33m\u001b[0m\u001b[0m\n\u001b[0m\u001b[0;32m    124\u001b[0m         \u001b[1;32mif\u001b[0m \u001b[0mevent\u001b[0m\u001b[1;33m.\u001b[0m\u001b[0mtype\u001b[0m \u001b[1;33m==\u001b[0m \u001b[0mpygame\u001b[0m\u001b[1;33m.\u001b[0m\u001b[0mQUIT\u001b[0m \u001b[1;32mor\u001b[0m \u001b[1;33m(\u001b[0m\u001b[0mevent\u001b[0m\u001b[1;33m.\u001b[0m\u001b[0mtype\u001b[0m \u001b[1;33m==\u001b[0m \u001b[0mKEYDOWN\u001b[0m \u001b[1;32mand\u001b[0m \u001b[0mevent\u001b[0m\u001b[1;33m.\u001b[0m\u001b[0mkey\u001b[0m \u001b[1;33m==\u001b[0m \u001b[0mK_ESCAPE\u001b[0m\u001b[1;33m)\u001b[0m\u001b[1;33m:\u001b[0m\u001b[1;33m\u001b[0m\u001b[0m\n\u001b[0;32m    125\u001b[0m             \u001b[0mpygame\u001b[0m\u001b[1;33m.\u001b[0m\u001b[0mquit\u001b[0m\u001b[1;33m(\u001b[0m\u001b[1;33m)\u001b[0m\u001b[1;33m\u001b[0m\u001b[0m\n",
      "\u001b[1;31merror\u001b[0m: video system not initialized"
     ]
    }
   ],
   "source": [
    "from graphics import *\n",
    "init_fenetre(600,400,\"Ma première fenêtre\")\n",
    "remplir_fenetre(orange)\n",
    "attendre_echap()"
   ]
  },
  {
   "cell_type": "markdown",
   "metadata": {},
   "source": [
    "### type Point\n",
    "### wait_clic()\n",
    "### affiche_pixel(point,couleur)\n",
    "\n",
    "Une variable de type Point représente les coordonnées d'un pixel dans la fenêtre, l'origine du repère étant le point en bas à gauche de la fenêtre.\n",
    "Si P est une variable de type point, l'abscisse est notée P.x et l'ordonnée P.y, ce sont deux int.\n",
    "wait_clic() attend un clic de l'utilisateur dans la fenêtre et renvoie les coordonnées du clic dans la fenêtre sous la forme d'un Point.\n",
    "affiche_pixel affiche le pixel de coordonnées point de la couleur donnée"
   ]
  },
  {
   "cell_type": "code",
   "execution_count": 5,
   "metadata": {},
   "outputs": [
    {
     "ename": "SystemExit",
     "evalue": "0",
     "output_type": "error",
     "traceback": [
      "An exception has occurred, use %tb to see the full traceback.\n",
      "\u001b[1;31mSystemExit\u001b[0m\u001b[1;31m:\u001b[0m 0\n"
     ]
    },
    {
     "name": "stderr",
     "output_type": "stream",
     "text": [
      "C:\\EduPython\\App\\lib\\site-packages\\IPython\\core\\interactiveshell.py:2889: UserWarning: To exit: use 'exit', 'quit', or Ctrl-D.\n",
      "  warn(\"To exit: use 'exit', 'quit', or Ctrl-D.\", stacklevel=1)\n"
     ]
    }
   ],
   "source": [
    "from graphics import *\n",
    "init_fenetre(600,400,\"Ma première fenêtre\")\n",
    "remplir(blanc)\n",
    "P = Point()\n",
    "P.x = 300\n",
    "P.y = 150\n",
    "affiche_pixel(P,rouge)\n",
    "\n",
    "Q = wait_clic()\n",
    "affiche_pixel(Q,vert)\n",
    "attendre_echap()"
   ]
  },
  {
   "cell_type": "markdown",
   "metadata": {},
   "source": [
    "##### affiche_ligne(point_depart, point_arrivee, couleur,epaisseur)\n",
    "##### affiche_rectangle(point1,point2,couleur,epaisseur)\n",
    "##### affiche_rectangle_plein(point1,point2,couleur)\n",
    "##### affiche_cercle(centre, rayon, couleur,epaisseur)\n",
    "##### affiche_cercle_plein(centre, rayon, couleur)\n",
    "##### affiche_triangle(point1,point2,point3,couleur,epaisseur)\n",
    "##### affiche_triangle_plein(point1,point2,point3,couleur)\n",
    "##### affiche_arc_cercle(centre,rayon,angle_debut,angle_fin,couleur,epaisseur)\n",
    "##### affiche_ellipse(point1,point2,couleur,epaisseur)\n",
    "##### affiche_ellipse_plein(point1,point2,couleur)\n",
    "\n",
    "Ces fonctions dessinent des objets géométriques. L'épaisseur est optionnelle et vaut 1 pixel par défaut."
   ]
  },
  {
   "cell_type": "code",
   "execution_count": 6,
   "metadata": {},
   "outputs": [
    {
     "ename": "SystemExit",
     "evalue": "0",
     "output_type": "error",
     "traceback": [
      "An exception has occurred, use %tb to see the full traceback.\n",
      "\u001b[1;31mSystemExit\u001b[0m\u001b[1;31m:\u001b[0m 0\n"
     ]
    },
    {
     "name": "stderr",
     "output_type": "stream",
     "text": [
      "C:\\EduPython\\App\\lib\\site-packages\\IPython\\core\\interactiveshell.py:2889: UserWarning: To exit: use 'exit', 'quit', or Ctrl-D.\n",
      "  warn(\"To exit: use 'exit', 'quit', or Ctrl-D.\", stacklevel=1)\n"
     ]
    }
   ],
   "source": [
    "from graphics import *\n",
    "init_fenetre(800,600,\"Test dessin\")\n",
    "remplir_fenetre(blanc)\n",
    "A = Point(10,50)\n",
    "B = Point(70,20)\n",
    "affiche_ligne(A,B,rouge)\n",
    "affiche_cercle(A,30,bleu)\n",
    "C = Point(200,300)\n",
    "D = Point(500,400)\n",
    "affiche_rectangle_plein(C,D,vert)\n",
    "affiche_rectangle(C,D,bleu)\n",
    "E = Point(600,550)\n",
    "F = Point(600,500)\n",
    "affiche_triangle(D,E,F,cyan,14)\n",
    "G = Point(350,350)\n",
    "affiche_pixel(G,rouge)\n",
    "H = Point(400,50)\n",
    "affiche_cercle_plein(H,40,rouge)\n",
    "I = Point(320,40)\n",
    "J = Point(320,60)\n",
    "affiche_triangle_plein(I,J,H,vert)\n",
    "affiche_arc_cercle(C,70,-160,120,noir,10)\n",
    "K = Point(100,400)\n",
    "L = Point(600,600)\n",
    "affiche_ellipse(K,L,orange,10)\n",
    "M = Point(150,450)\n",
    "N = Point(550,550)\n",
    "affiche_ellipse_plein(M,N,violet)\n",
    "attendre_echap()"
   ]
  },
  {
   "cell_type": "code",
   "execution_count": null,
   "metadata": {
    "collapsed": true
   },
   "outputs": [],
   "source": []
  }
 ],
 "metadata": {
  "kernelspec": {
   "display_name": "Python 3",
   "language": "python",
   "name": "python3"
  },
  "language_info": {
   "codemirror_mode": {
    "name": "ipython",
    "version": 3
   },
   "file_extension": ".py",
   "mimetype": "text/x-python",
   "name": "python",
   "nbconvert_exporter": "python",
   "pygments_lexer": "ipython3",
   "version": "3.4.5"
  }
 },
 "nbformat": 4,
 "nbformat_minor": 2
}
